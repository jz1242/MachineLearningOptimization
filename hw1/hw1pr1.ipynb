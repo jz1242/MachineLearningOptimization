{
 "cells": [
  {
   "cell_type": "code",
   "execution_count": 69,
   "metadata": {},
   "outputs": [],
   "source": [
    "#TAKEN FROM: https://ee227c.github.io/code/lecture4.html#madness\n",
    "%matplotlib inline\n",
    "import os, struct\n",
    "from array import array\n",
    "import numpy as np\n",
    "import matplotlib\n",
    "import matplotlib.pyplot as plt\n",
    "\n",
    "np.random.seed(1337)\n",
    "\n",
    "kwargs = {'linewidth' : 3.5}\n",
    "font = {'weight' : 'normal', 'size'   : 24}\n",
    "matplotlib.rc('font', **font)\n",
    "\n",
    "def error_plot(ys, yscale='log'):\n",
    "    plt.figure(figsize=(8, 8))\n",
    "    plt.xlabel('Step')\n",
    "    plt.ylabel('Error')\n",
    "    plt.yscale(yscale)\n",
    "    plt.plot(range(len(ys)), ys, **kwargs)"
   ]
  },
  {
   "cell_type": "code",
   "execution_count": 70,
   "metadata": {},
   "outputs": [],
   "source": [
    "#FROM: https://gist.github.com/tylerneylon/ce60e8a06e7506ac45788443f7269e40\n",
    "def read_idx(filename):\n",
    "    with open(filename, 'rb') as f:\n",
    "        zero, data_type, dims = struct.unpack('>HBB', f.read(4))\n",
    "        shape = tuple(struct.unpack('>I', f.read(4))[0] for d in range(dims))\n",
    "        return np.fromstring(f.read(), dtype=np.uint8).reshape(shape)"
   ]
  },
  {
   "cell_type": "code",
   "execution_count": 71,
   "metadata": {},
   "outputs": [
    {
     "name": "stderr",
     "output_type": "stream",
     "text": [
      "C:\\Users\\jz124\\Anaconda2\\envs\\py36\\lib\\site-packages\\ipykernel_launcher.py:6: DeprecationWarning: The binary mode of fromstring is deprecated, as it behaves surprisingly on unicode inputs. Use frombuffer instead\n",
      "  \n"
     ]
    }
   ],
   "source": [
    "mnist_labels = read_idx('train-labels.idx1-ubyte')\n",
    "mnist_imgs = read_idx('train-images.idx3-ubyte')"
   ]
  },
  {
   "cell_type": "code",
   "execution_count": 72,
   "metadata": {},
   "outputs": [],
   "source": [
    "def grad(x):\n",
    "    x = np.reshape(x, (784,1))\n",
    "    return np.dot(x,(np.dot(x.T,U)))"
   ]
  },
  {
   "cell_type": "code",
   "execution_count": 73,
   "metadata": {},
   "outputs": [],
   "source": [
    "def proj(x):\n",
    "    q, r = np.linalg.qr(x)\n",
    "    return q"
   ]
  },
  {
   "cell_type": "code",
   "execution_count": 74,
   "metadata": {},
   "outputs": [],
   "source": [
    "def gradient_descent(x, prev, eta):\n",
    "    return proj(prev + eta * grad(x))"
   ]
  },
  {
   "cell_type": "code",
   "execution_count": 75,
   "metadata": {},
   "outputs": [],
   "source": [
    "def calc_error(inp, mat):\n",
    "    return np.linalg.norm(inp.T - np.dot(np.dot(mat, mat.T),inp.T), ord = 2)**2 #taking l2 norm gives smaller error"
   ]
  },
  {
   "cell_type": "code",
   "execution_count": 76,
   "metadata": {},
   "outputs": [],
   "source": [
    "k = 2\n",
    "U = np.linalg.qr(np.random.normal(0, 1, (784, k)))[0]"
   ]
  },
  {
   "cell_type": "code",
   "execution_count": 77,
   "metadata": {},
   "outputs": [
    {
     "name": "stdout",
     "output_type": "stream",
     "text": [
      "Training Error: 4.0119077930870155\n"
     ]
    }
   ],
   "source": [
    "num_samples = 1000\n",
    "num_epochs = 10\n",
    "test = (mnist_imgs - np.mean(mnist_imgs, axis=0))/255\n",
    "tmp = np.asarray(test, dtype=np.float64)\n",
    "tmp = tmp.reshape((data.shape[0], -1), order='F')\n",
    "train_data = tmp[0:num_samples]\n",
    "test_data = tmp[num_samples:data.shape[0]]\n",
    "for i in range(0, num_epochs):\n",
    "    for j in range(0, num_samples):\n",
    "        U = gradient_descent(train[j], U, 0.01)\n",
    "training_error = (calc_error(train_data, U))/num_samples\n",
    "print('Training Error:', training_error) #1/T of summation of all iterates after n epochs"
   ]
  },
  {
   "cell_type": "code",
   "execution_count": 78,
   "metadata": {},
   "outputs": [
    {
     "name": "stdout",
     "output_type": "stream",
     "text": [
      "Test Error:  3.6478143040769395\n"
     ]
    }
   ],
   "source": [
    "test_error = (calc_error(test_data, U))/test.shape[0]\n",
    "print('Test Error: ', test_error)"
   ]
  },
  {
   "cell_type": "code",
   "execution_count": 79,
   "metadata": {},
   "outputs": [],
   "source": [
    "x = []\n",
    "y = []\n",
    "for i in range(test_data.shape[0]):\n",
    "    s = np.dot(U.T,test_data[i])\n",
    "    x.append(s[0])\n",
    "    y.append(s[1])"
   ]
  },
  {
   "cell_type": "code",
   "execution_count": 80,
   "metadata": {
    "scrolled": true
   },
   "outputs": [
    {
     "data": {
      "image/png": "[encoded data removed]",
      "text/plain": [
       "<Figure size 432x288 with 1 Axes>"
      ]
     },
     "metadata": {
      "needs_background": "light"
     },
     "output_type": "display_data"
    }
   ],
   "source": [
    "#projected data\n",
    "plt.scatter(x, y)\n",
    "plt.xlabel('x')\n",
    "plt.ylabel('y')\n",
    "plt.show()"
   ]
  }
 ],
 "metadata": {
  "kernelspec": {
   "display_name": "Python 3",
   "language": "python",
   "name": "python3"
  },
  "language_info": {
   "codemirror_mode": {
    "name": "ipython",
    "version": 3
   },
   "file_extension": ".py",
   "mimetype": "text/x-python",
   "name": "python",
   "nbconvert_exporter": "python",
   "pygments_lexer": "ipython3",
   "version": "3.6.6"
  }
 },
 "nbformat": 4,
 "nbformat_minor": 2
}
