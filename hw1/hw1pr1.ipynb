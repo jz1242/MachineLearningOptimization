{
 "cells": [
  {
   "cell_type": "code",
   "execution_count": 200,
   "metadata": {},
   "outputs": [],
   "source": [
    "#TAKEN FROM: https://ee227c.github.io/code/lecture4.html#madness\n",
    "%matplotlib inline\n",
    "import os, struct\n",
    "from array import array\n",
    "import numpy as np\n",
    "import matplotlib\n",
    "import matplotlib.pyplot as plt\n",
    "\n",
    "np.random.seed(1337)\n",
    "\n",
    "kwargs = {'linewidth' : 3.5}\n",
    "font = {'weight' : 'normal', 'size'   : 24}\n",
    "matplotlib.rc('font', **font)\n",
    "\n",
    "def error_plot(ys, yscale='log'):\n",
    "    plt.figure(figsize=(8, 8))\n",
    "    plt.xlabel('Step')\n",
    "    plt.ylabel('Error')\n",
    "    plt.yscale(yscale)\n",
    "    plt.plot(range(len(ys)), ys, **kwargs)"
   ]
  },
  {
   "cell_type": "code",
   "execution_count": 201,
   "metadata": {},
   "outputs": [],
   "source": [
    "#FROM: https://gist.github.com/tylerneylon/ce60e8a06e7506ac45788443f7269e40\n",
    "def read_idx(filename):\n",
    "    with open(filename, 'rb') as f:\n",
    "        zero, data_type, dims = struct.unpack('>HBB', f.read(4))\n",
    "        shape = tuple(struct.unpack('>I', f.read(4))[0] for d in range(dims))\n",
    "        return np.fromstring(f.read(), dtype=np.uint8).reshape(shape)"
   ]
  },
  {
   "cell_type": "code",
   "execution_count": 217,
   "metadata": {},
   "outputs": [
    {
     "name": "stderr",
     "output_type": "stream",
     "text": [
      "C:\\Users\\jz124\\Anaconda2\\envs\\py36\\lib\\site-packages\\ipykernel_launcher.py:6: DeprecationWarning: The binary mode of fromstring is deprecated, as it behaves surprisingly on unicode inputs. Use frombuffer instead\n",
      "  \n"
     ]
    }
   ],
   "source": [
    "mnist_labels = read_idx('train-labels.idx1-ubyte')\n",
    "mnist_imgs = read_idx('train-images.idx3-ubyte')"
   ]
  },
  {
   "cell_type": "code",
   "execution_count": 418,
   "metadata": {},
   "outputs": [],
   "source": [
    "def gradient_descent(sample, prev, grad, step_size, proj=lambda x: x):\n",
    "    sample = np.ravel(sample)\n",
    "    sample = np.array(sample, dtype=np.int)\n",
    "    return proj(prev - step_size * grad(sample))"
   ]
  },
  {
   "cell_type": "code",
   "execution_count": 419,
   "metadata": {},
   "outputs": [],
   "source": [
    "k = 2\n",
    "U = np.linalg.qr(np.random.normal(0, 1, (784, k)))[0]"
   ]
  },
  {
   "cell_type": "code",
   "execution_count": 420,
   "metadata": {},
   "outputs": [],
   "source": [
    "def grad(x):\n",
    "    x = np.reshape(x, (784,1))\n",
    "    return -2*np.dot(x*x.T, U)"
   ]
  },
  {
   "cell_type": "code",
   "execution_count": 421,
   "metadata": {},
   "outputs": [],
   "source": [
    "def proj(x):\n",
    "    q, r = np.linalg.qr(x)\n",
    "    return q"
   ]
  },
  {
   "cell_type": "code",
   "execution_count": 423,
   "metadata": {},
   "outputs": [],
   "source": [
    "data = [U]\n",
    "test = mnist_imgs[1:10]\n",
    "U_hat = U\n",
    "T = 10\n",
    "for iter in range(1, 2):\n",
    "    for sample in test:\n",
    "        data.append(gradient_descent(sample, data[-1], grad, 1, proj))\n",
    "    toApp = data[-1]\n",
    "    data = [toApp]\n",
    "U_hat = data[-1]"
   ]
  },
  {
   "cell_type": "code",
   "execution_count": 430,
   "metadata": {},
   "outputs": [
    {
     "name": "stdout",
     "output_type": "stream",
     "text": [
      "3494398377.931916\n"
     ]
    }
   ],
   "source": [
    "sum = 0\n",
    "for sample in test:\n",
    "    sum += predict(sample, U_hat) \n",
    "print(sum/10)\n",
    "#predict(test[0], U_hat)"
   ]
  },
  {
   "cell_type": "code",
   "execution_count": 429,
   "metadata": {},
   "outputs": [],
   "source": [
    "def predict(inp, mat):\n",
    "    inp = np.ravel(inp)\n",
    "#     inp = np.array(inp, dtype=np.int)\n",
    "#     print(inp)\n",
    "#     print(np.dot(mat, mat.T)*inp)\n",
    "    return np.linalg.norm(inp - np.dot(mat, mat.T)*inp)**2"
   ]
  },
  {
   "cell_type": "code",
   "execution_count": null,
   "metadata": {},
   "outputs": [],
   "source": []
  }
 ],
 "metadata": {
  "kernelspec": {
   "display_name": "Python 3",
   "language": "python",
   "name": "python3"
  },
  "language_info": {
   "codemirror_mode": {
    "name": "ipython",
    "version": 3
   },
   "file_extension": ".py",
   "mimetype": "text/x-python",
   "name": "python",
   "nbconvert_exporter": "python",
   "pygments_lexer": "ipython3",
   "version": "3.6.6"
  }
 },
 "nbformat": 4,
 "nbformat_minor": 2
}
