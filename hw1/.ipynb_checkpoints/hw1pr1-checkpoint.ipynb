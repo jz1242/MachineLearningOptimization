{
 "cells": [
  {
   "cell_type": "code",
   "execution_count": 1,
   "metadata": {},
   "outputs": [],
   "source": [
    "#TAKEN FROM: https://ee227c.github.io/code/lecture4.html#madness\n",
    "%matplotlib inline\n",
    "import os, struct\n",
    "from array import array\n",
    "import numpy as np\n",
    "import matplotlib\n",
    "import matplotlib.pyplot as plt\n",
    "\n",
    "np.random.seed(1337)\n",
    "\n",
    "kwargs = {'linewidth' : 3.5}\n",
    "font = {'weight' : 'normal', 'size'   : 24}\n",
    "matplotlib.rc('font', **font)\n",
    "\n",
    "def error_plot(ys, yscale='log'):\n",
    "    plt.figure(figsize=(8, 8))\n",
    "    plt.xlabel('Step')\n",
    "    plt.ylabel('Error')\n",
    "    plt.yscale(yscale)\n",
    "    plt.plot(range(len(ys)), ys, **kwargs)"
   ]
  },
  {
   "cell_type": "code",
   "execution_count": 2,
   "metadata": {},
   "outputs": [],
   "source": [
    "#FROM: https://gist.github.com/tylerneylon/ce60e8a06e7506ac45788443f7269e40\n",
    "def read_idx(filename):\n",
    "    with open(filename, 'rb') as f:\n",
    "        zero, data_type, dims = struct.unpack('>HBB', f.read(4))\n",
    "        shape = tuple(struct.unpack('>I', f.read(4))[0] for d in range(dims))\n",
    "        return np.fromstring(f.read(), dtype=np.uint8).reshape(shape)"
   ]
  },
  {
   "cell_type": "code",
   "execution_count": 3,
   "metadata": {},
   "outputs": [
    {
     "name": "stderr",
     "output_type": "stream",
     "text": [
      "C:\\Users\\jz124\\Anaconda2\\envs\\py36\\lib\\site-packages\\ipykernel_launcher.py:6: DeprecationWarning: The binary mode of fromstring is deprecated, as it behaves surprisingly on unicode inputs. Use frombuffer instead\n",
      "  \n"
     ]
    }
   ],
   "source": [
    "mnist_labels = read_idx('train-labels.idx1-ubyte')\n",
    "mnist_imgs = read_idx('train-images.idx3-ubyte')"
   ]
  },
  {
   "cell_type": "code",
   "execution_count": 4,
   "metadata": {},
   "outputs": [],
   "source": [
    "def plot_mnist_vector(m):\n",
    "    plt.figure()\n",
    "    plt.imshow(m.reshape((28, 28)))\n",
    "    plt.show()"
   ]
  },
  {
   "cell_type": "code",
   "execution_count": 200,
   "metadata": {},
   "outputs": [
    {
     "data": {
      "image/png": "[encoded data removed]",
      "text/plain": [
       "<Figure size 432x288 with 1 Axes>"
      ]
     },
     "metadata": {
      "needs_background": "light"
     },
     "output_type": "display_data"
    }
   ],
   "source": [
    "plot_mnist_vector(np.reshape(mnist_imgs[56000], (784,1)))"
   ]
  },
  {
   "cell_type": "code",
   "execution_count": 5,
   "metadata": {},
   "outputs": [],
   "source": [
    "def grad(x):\n",
    "    x = np.reshape(x, (784,1))\n",
    "    return np.dot(x,(np.dot(x.T,U)))"
   ]
  },
  {
   "cell_type": "code",
   "execution_count": 6,
   "metadata": {},
   "outputs": [],
   "source": [
    "def proj(x):\n",
    "    q, r = np.linalg.qr(x)\n",
    "    return q"
   ]
  },
  {
   "cell_type": "code",
   "execution_count": 7,
   "metadata": {},
   "outputs": [],
   "source": [
    "def gradient_descent(x, prev, eta):\n",
    "    return proj(prev + eta * grad(x))"
   ]
  },
  {
   "cell_type": "code",
   "execution_count": 8,
   "metadata": {},
   "outputs": [],
   "source": [
    "def predict(inp, mat):\n",
    "    return np.linalg.norm(inp.T - np.dot(np.dot(mat, mat.T),inp.T), ord = 2)"
   ]
  },
  {
   "cell_type": "code",
   "execution_count": 44,
   "metadata": {},
   "outputs": [],
   "source": [
    "k = 2\n",
    "U = np.linalg.qr(np.random.normal(0, 1, (784, k)))[0]"
   ]
  },
  {
   "cell_type": "markdown",
   "metadata": {},
   "source": [
    "print(np.random.normal(0, 0.5, (10)))"
   ]
  },
  {
   "cell_type": "code",
   "execution_count": 45,
   "metadata": {},
   "outputs": [
    {
     "name": "stdout",
     "output_type": "stream",
     "text": [
      "Initial Error  200.66324898887174\n",
      "Error 0 epoch 93.06453172487984\n",
      "Error 1 epoch 90.90102370042226\n",
      "Error 2 epoch 87.2833466996392\n",
      "Error 3 epoch 86.60904732111761\n",
      "Error 4 epoch 83.79106714044087\n",
      "Error 5 epoch 81.7462977971664\n",
      "Error 6 epoch 102.00220884855132\n",
      "Error 7 epoch 81.32967484957405\n",
      "Error 8 epoch 92.2001082105852\n",
      "Error 9 epoch 80.17642076808566\n"
     ]
    }
   ],
   "source": [
    "num_samples = 1000\n",
    "num_epochs = 10\n",
    "test = mnist_imgs/255\n",
    "# test = (mnist_imgs - mnist_imgs.mean())/mnist_imgs.std()\n",
    "data = np.asarray(test, dtype=np.float64)\n",
    "data = data.reshape((data.shape[0], -1), order='F')\n",
    "data = np.random.permutation(data)\n",
    "test = data[0:num_samples]\n",
    "#test /= 255\n",
    "#test = (test - test.mean())/test.std()\n",
    "a = []\n",
    "print('Initial Error ', predict(test, U))\n",
    "U_t = U\n",
    "for i in range(0, num_epochs):\n",
    "    for j in range(0, num_samples):\n",
    "        num = np.random.randint(0, num_samples-1)\n",
    "        U = gradient_descent(test[num], U_t, 0.01)\n",
    "        #print('Norm diff ', np.linalg.norm(U - U_t, ord = 'fro'))\n",
    "        #print(np.linalg.norm(U, ord = 'fro'))\n",
    "        U_t = U\n",
    "        #a.append(predict(data[num], U))\n",
    "    print('Error',i,'epoch',predict(test, U))\n",
    "    #print(U)\n",
    "    "
   ]
  },
  {
   "cell_type": "markdown",
   "metadata": {},
   "source": [
    "sum = 0\n",
    "for i in range(0, 100):\n",
    "    num = np.random.randint(0, num_samples - 1)\n",
    "    sum += predict(data[num], U)\n",
    "print(sum/num_samples)"
   ]
  },
  {
   "cell_type": "code",
   "execution_count": 46,
   "metadata": {},
   "outputs": [
    {
     "data": {
      "image/png": "[encoded data removed]",
      "text/plain": [
       "<Figure size 432x288 with 1 Axes>"
      ]
     },
     "metadata": {
      "needs_background": "light"
     },
     "output_type": "display_data"
    },
    {
     "data": {
      "image/png": "[encoded data removed]",
      "text/plain": [
       "<Figure size 432x288 with 1 Axes>"
      ]
     },
     "metadata": {
      "needs_background": "light"
     },
     "output_type": "display_data"
    }
   ],
   "source": [
    "for i in range(k):\n",
    "    plot_mnist_vector(U.T[i])"
   ]
  },
  {
   "cell_type": "code",
   "execution_count": 47,
   "metadata": {},
   "outputs": [
    {
     "name": "stdout",
     "output_type": "stream",
     "text": [
      "210.78383614979475\n"
     ]
    },
    {
     "name": "stderr",
     "output_type": "stream",
     "text": [
      "C:\\Users\\jz124\\Anaconda2\\envs\\py36\\lib\\site-packages\\matplotlib\\cbook\\deprecation.py:107: MatplotlibDeprecationWarning: Passing one of 'on', 'true', 'off', 'false' as a boolean is deprecated; use an actual boolean (True/False) instead.\n",
      "  warnings.warn(message, mplDeprecation, stacklevel=1)\n"
     ]
    },
    {
     "data": {
      "image/png": "[encoded data removed]",
      "text/plain": [
       "<Figure size 432x288 with 1 Axes>"
      ]
     },
     "metadata": {
      "needs_background": "light"
     },
     "output_type": "display_data"
    },
    {
     "data": {
      "image/png": "[encoded data removed]",
      "text/plain": [
       "<Figure size 432x288 with 1 Axes>"
      ]
     },
     "metadata": {
      "needs_background": "light"
     },
     "output_type": "display_data"
    },
    {
     "data": {
      "image/png": "[encoded data removed]",
      "text/plain": [
       "<Figure size 432x288 with 1 Axes>"
      ]
     },
     "metadata": {
      "needs_background": "light"
     },
     "output_type": "display_data"
    }
   ],
   "source": [
    "from sklearn.decomposition import pca\n",
    "# data\n",
    "dimensions = k\n",
    "X = test\n",
    "# PCA\n",
    "\n",
    "\n",
    "# Reconstructions Error\n",
    "err = np.zeros(dimensions)\n",
    "r = pca.PCA(n_components=dimensions)\n",
    "r.fit(data)\n",
    "X_train_pca = r.transform(X)\n",
    "\n",
    "for i in range(dimensions):\n",
    "    comp = r.components_[0:i+1]\n",
    "    err[i] = np.linalg.norm(X.T - (np.dot(comp.T, np.dot(comp, X.T))))\n",
    "    \n",
    "X_projected = r.inverse_transform(X_train_pca)\n",
    "print(np.linalg.norm(X - X_projected))\n",
    "plt.figure()\n",
    "plt.scatter(np.arange(1, dimensions+1), err)\n",
    "plt.xlabel('PCA Dimensions')\n",
    "plt.ylabel('Reconstruction Error ($\\|X - Z P^T \\|_F^2$)')\n",
    "plt.title('PCA')\n",
    "plt.grid('on')\n",
    "plt.show()\n",
    "\n",
    "for i in range(dimensions):\n",
    "    plot_mnist_vector(r.components_[i])"
   ]
  },
  {
   "cell_type": "code",
   "execution_count": 48,
   "metadata": {
    "scrolled": true
   },
   "outputs": [
    {
     "name": "stdout",
     "output_type": "stream",
     "text": [
      "(2, 784)\n",
      "(784, 2)\n",
      "0.5849828628746077\n"
     ]
    }
   ],
   "source": [
    "print(r.components_.shape)\n",
    "print(U.shape)\n",
    "print(np.trace(np.dot(U, r.components_)))\n"
   ]
  },
  {
   "cell_type": "code",
   "execution_count": null,
   "metadata": {},
   "outputs": [],
   "source": []
  },
  {
   "cell_type": "code",
   "execution_count": null,
   "metadata": {},
   "outputs": [],
   "source": []
  }
 ],
 "metadata": {
  "kernelspec": {
   "display_name": "Python 3",
   "language": "python",
   "name": "python3"
  },
  "language_info": {
   "codemirror_mode": {
    "name": "ipython",
    "version": 3
   },
   "file_extension": ".py",
   "mimetype": "text/x-python",
   "name": "python",
   "nbconvert_exporter": "python",
   "pygments_lexer": "ipython3",
   "version": "3.6.6"
  }
 },
 "nbformat": 4,
 "nbformat_minor": 2
}
